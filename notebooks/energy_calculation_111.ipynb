{
 "cells": [
  {
   "cell_type": "code",
   "execution_count": null,
   "id": "7a11dc69",
   "metadata": {},
   "outputs": [],
   "source": [
    "def wh_to_joules_per_token(wh, tokens):\n",
    "    \"\"\"\n",
    "    Convert energy consumption from watt-hours to joules per token.\n",
    "    \n",
    "    Parameters:\n",
    "    - wh (float): energy in watt-hours\n",
    "    - tokens (int): number of tokens (input + output)\n",
    "    \n",
    "    Returns:\n",
    "    - float: joules per token\n",
    "    \"\"\"\n",
    "    joules = wh * 3600   # 1 Wh = 3600 J\n",
    "    return joules / tokens\n",
    "\n",
    "# Example usage:\n",
    "energy_wh = 2.26  \n",
    "tokens =   251    # output length\n",
    "print(wh_to_joules_per_token(energy_wh, tokens))  \n"
   ]
  },
  {
   "cell_type": "code",
   "execution_count": null,
   "id": "d777bff3",
   "metadata": {},
   "outputs": [],
   "source": [
    "def electricity_cost(kwh, rate_per_kwh=0.2573):\n",
    "    \"\"\"\n",
    "    Calculate electricity cost in pounds (£) given kWh usage.\n",
    "\n",
    "    Parameters:\n",
    "        kwh (float): Energy consumption in kilowatt-hours.\n",
    "        rate_per_kwh (float): Price per kWh in pounds (default = 0.2573 for Jul-Sep 2025 price cap).\n",
    "\n",
    "    Returns:\n",
    "        float: Cost in pounds (£).\n",
    "    \"\"\"\n",
    "    return round(kwh * rate_per_kwh, 2)\n"
   ]
  },
  {
   "cell_type": "code",
   "execution_count": null,
   "id": "f49870a2",
   "metadata": {},
   "outputs": [],
   "source": [
    "number_of_calls = 1.6*10**6  #it seems in general it's 1.6 million (see for instance https://www.nuffieldtrust.org.uk/resource/nhs-111)\n",
    "\n",
    "joules_per_token = 37\n",
    "\"\"\"\n",
    "This is based on:\n",
    "- https://energy.inference.net/ (llama 405: 1; deepseek: 0.1, qwen 32b: 0.01)\n",
    "- https://arxiv.org/pdf/2310.03003 (which is 3-4 for llama 70b)\n",
    "- https://arxiv.org/pdf/2505.09598v1 (which is more toward deepseek: 52j, llama 405: 10, llama 70b: 6; llama 8b: 0.5)\n",
    "our experiments:\n",
    "- qwen 3b on linux vm: 0.01\n",
    "- qwen 3b on macbook: 0.7\n",
    "\"\"\"\n",
    "\n",
    "token_per_answer = 1000 # 1000 input and 1000 output\n",
    "\n",
    "def compute_energy_cost(number_of_calls, joules_per_token, token_per_answer):\n",
    "    total_energy = number_of_calls * token_per_answer * joules_per_token\n",
    "    kwh = total_energy / 3.6e6  # Convert joules to kilowatt-hours\n",
    "    return kwh\n",
    "usage_kwh = round(compute_energy_cost(number_of_calls, joules_per_token, token_per_answer),2)\n",
    "\n",
    "cost = electricity_cost(usage_kwh)\n",
    "print(f\"Electricity cost for {usage_kwh} kWh: £{cost}\")"
   ]
  }
 ],
 "metadata": {
  "kernelspec": {
   "display_name": "t0-2",
   "language": "python",
   "name": "python3"
  },
  "language_info": {
   "codemirror_mode": {
    "name": "ipython",
    "version": 3
   },
   "file_extension": ".py",
   "mimetype": "text/x-python",
   "name": "python",
   "nbconvert_exporter": "python",
   "pygments_lexer": "ipython3",
   "version": "3.13.2"
  }
 },
 "nbformat": 4,
 "nbformat_minor": 5
}
