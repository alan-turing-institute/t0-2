{
 "cells": [
  {
   "cell_type": "code",
   "execution_count": 1,
   "id": "81a6837d",
   "metadata": {},
   "outputs": [
    {
     "data": {
      "application/vnd.jupyter.widget-view+json": {
       "model_id": "0ec8f3dd039f49cfa133cccbf5c5941b",
       "version_major": 2,
       "version_minor": 0
      },
      "text/plain": [
       "Loading checkpoint shards:   0%|          | 0/2 [00:00<?, ?it/s]"
      ]
     },
     "metadata": {},
     "output_type": "display_data"
    },
    {
     "name": "stderr",
     "output_type": "stream",
     "text": [
      "Device set to use cuda:0\n"
     ]
    }
   ],
   "source": [
    "# Use a pipeline as a high-level helper\n",
    "from transformers import pipeline\n",
    "from pyJoules.energy_meter import measure_energy\n",
    "from pyJoules.handler.pandas_handler import PandasHandler\n",
    "import tiktoken\n",
    "\n",
    "pipe = pipeline(\"text-generation\", model=\"Qwen/Qwen2.5-3B-Instruct\")\n",
    "\n",
    "pandas_handler = PandasHandler()\n",
    "\n",
    "@measure_energy(handler=pandas_handler)\n",
    "def generate_response(messages):\n",
    "    return pipe(messages)\n",
    "\n",
    "messages = [\n",
    "    {'role': 'system', 'content': 'You are a helpful assistant.'},  \n",
    "    {\"role\": \"user\", \"content\": \"Tell me all you know about London\"},\n",
    "]"
   ]
  },
  {
   "cell_type": "code",
   "execution_count": 2,
   "id": "101195e2",
   "metadata": {},
   "outputs": [
    {
     "name": "stdout",
     "output_type": "stream",
     "text": [
      "Total energy: 4.793036 J\n",
      "Number of tokens: 251\n",
      "Energy per token: 0.019096 J\n"
     ]
    }
   ],
   "source": [
    "text = generate_response(messages)[0]['generated_text'][2]['content']\n",
    "\n",
    "df = pandas_handler.get_dataframe()\n",
    "\n",
    "energy_microjoules = df.filter(like='nvidia_gpu').sum(axis=1)\n",
    "\n",
    "energy_joules = energy_microjoules / 1e6\n",
    "\n",
    "total_joules = energy_joules.iloc[-1]\n",
    "\n",
    "n_tokens = len(tiktoken.encoding_for_model(\"gpt-4\").encode(text))\n",
    "\n",
    "print(f\"Total energy: {total_joules:.6f} J\")\n",
    "print(f\"Number of tokens: {n_tokens}\")\n",
    "print(f\"Energy per token: {total_joules / n_tokens:.6f} J\")"
   ]
  }
 ],
 "metadata": {
  "kernelspec": {
   "display_name": "t0-2",
   "language": "python",
   "name": "python3"
  },
  "language_info": {
   "codemirror_mode": {
    "name": "ipython",
    "version": 3
   },
   "file_extension": ".py",
   "mimetype": "text/x-python",
   "name": "python",
   "nbconvert_exporter": "python",
   "pygments_lexer": "ipython3",
   "version": "3.13.3"
  }
 },
 "nbformat": 4,
 "nbformat_minor": 5
}
