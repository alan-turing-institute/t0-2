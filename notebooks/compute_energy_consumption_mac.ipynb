{
 "cells": [
  {
   "cell_type": "code",
   "execution_count": 1,
   "id": "cccdbacc",
   "metadata": {},
   "outputs": [
    {
     "data": {
      "application/vnd.jupyter.widget-view+json": {
       "model_id": "4b68ceefe1dc4bcb90bfe1207969018c",
       "version_major": 2,
       "version_minor": 0
      },
      "text/plain": [
       "Loading checkpoint shards:   0%|          | 0/2 [00:00<?, ?it/s]"
      ]
     },
     "metadata": {},
     "output_type": "display_data"
    },
    {
     "name": "stderr",
     "output_type": "stream",
     "text": [
      "Device set to use mps:0\n"
     ]
    }
   ],
   "source": [
    "# Use a pipeline as a high-level helper\n",
    "from transformers import pipeline\n",
    "\n",
    "pipe = pipeline(\"text-generation\", model=\"Qwen/Qwen2.5-3B-Instruct\")\n",
    "\n",
    "\n",
    "def generate_response(messages):\n",
    "    return pipe(messages)\n",
    "\n",
    "messages = [\n",
    "    {'role': 'system', 'content': 'You are a helpful assistant.'},  \n",
    "    {\"role\": \"user\", \"content\": \"Tell me all you know about London\"},\n",
    "]"
   ]
  },
  {
   "cell_type": "code",
   "execution_count": 2,
   "id": "3ff9bf2f",
   "metadata": {},
   "outputs": [
    {
     "name": "stdout",
     "output_type": "stream",
     "text": [
      "20.982714891433716\n"
     ]
    }
   ],
   "source": [
    "import time\n",
    "start_time = time.time()\n",
    "pipe(messages)\n",
    "end_time = time.time()\n",
    "\n",
    "duration = end_time - start_time\n",
    "print (duration)"
   ]
  },
  {
   "cell_type": "code",
   "execution_count": 3,
   "id": "5fd794c5",
   "metadata": {},
   "outputs": [],
   "source": [
    "import tiktoken\n",
    "\n",
    "text = generate_response(messages)[0]['generated_text'][2]['content']\n",
    "\n",
    "n_tokens = len(tiktoken.encoding_for_model(\"gpt-4\").encode(text))\n",
    "\n",
    "energy_used = 9200  # in mW, measured with sudo powermetrics --samplers cpu_power 9500 - 300 baseline"
   ]
  },
  {
   "cell_type": "code",
   "execution_count": 4,
   "id": "ff9de693",
   "metadata": {},
   "outputs": [
    {
     "name": "stdout",
     "output_type": "stream",
     "text": [
      "Energy per token: 0.77 J/token\n"
     ]
    }
   ],
   "source": [
    "def joules_per_token(power_mw, duration_s, num_tokens):\n",
    "    \"\"\"\n",
    "    Calculate energy consumption per token in joules.\n",
    "    \n",
    "    Args:\n",
    "        power_mw (float): Power in milliwatts.\n",
    "        duration_s (float): Duration in seconds.\n",
    "        num_tokens (int): Number of tokens generated.\n",
    "        \n",
    "    Returns:\n",
    "        float: Joules per token.\n",
    "    \"\"\"\n",
    "    power_w = power_mw / 1000  # Convert mW to W\n",
    "    total_energy_j = power_w * duration_s\n",
    "    return total_energy_j / num_tokens\n",
    "\n",
    "# Example usage\n",
    "j_per_token = joules_per_token(energy_used, duration, n_tokens)\n",
    "print(f\"Energy per token: {j_per_token:.2f} J/token\")\n"
   ]
  }
 ],
 "metadata": {
  "kernelspec": {
   "display_name": "t0-2",
   "language": "python",
   "name": "python3"
  },
  "language_info": {
   "codemirror_mode": {
    "name": "ipython",
    "version": 3
   },
   "file_extension": ".py",
   "mimetype": "text/x-python",
   "name": "python",
   "nbconvert_exporter": "python",
   "pygments_lexer": "ipython3",
   "version": "3.13.2"
  }
 },
 "nbformat": 4,
 "nbformat_minor": 5
}
