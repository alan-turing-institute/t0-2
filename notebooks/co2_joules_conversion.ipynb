{
 "cells": [
  {
   "cell_type": "code",
   "execution_count": null,
   "id": "1e725ae3",
   "metadata": {},
   "outputs": [],
   "source": [
    "def energy_per_token(co2_grams, num_tokens, emission_factor_g_per_kwh=480):\n",
    "    \"\"\"\n",
    "    Calculate energy usage and joules per token given CO2 emissions.\n",
    "\n",
    "    Parameters:\n",
    "    - co2_grams: total CO2eq emissions (grams)\n",
    "    - num_tokens: number of tokens generated\n",
    "    - emission_factor_g_per_kwh: emission factor (default 480 gCO2/kWh)\n",
    "\n",
    "    Returns:\n",
    "    - kwh_used: energy used in kWh\n",
    "    - joules_used: energy used in Joules\n",
    "    - joules_per_token: energy per token in Joules/token\n",
    "    \"\"\"\n",
    "    kwh_used = co2_grams / emission_factor_g_per_kwh\n",
    "    joules_used = kwh_used * 3_600_000  # 1 kWh = 3.6 MJ\n",
    "    joules_per_token = joules_used / num_tokens if num_tokens > 0 else 0\n",
    "    return kwh_used, joules_used, joules_per_token\n"
   ]
  },
  {
   "cell_type": "code",
   "execution_count": null,
   "id": "a2309640",
   "metadata": {},
   "outputs": [],
   "source": [
    "deepseek70 = (1325/500, (578+578+755+2500+2044)/5)\n",
    "qwen7b = (60/500, (90+90+133+220+356)/5)\n",
    "energy_per_token_70b = energy_per_token(co2_grams=deepseek70[0], num_tokens=deepseek70[1])\n",
    "energy_per_token_7b = energy_per_token(co2_grams=qwen7b[0], num_tokens=qwen7b[1])\n",
    "print (energy_per_token_70b)\n",
    "print (energy_per_token_7b)"
   ]
  }
 ],
 "metadata": {
  "kernelspec": {
   "display_name": "t0-2",
   "language": "python",
   "name": "python3"
  },
  "language_info": {
   "codemirror_mode": {
    "name": "ipython",
    "version": 3
   },
   "file_extension": ".py",
   "mimetype": "text/x-python",
   "name": "python",
   "nbconvert_exporter": "python",
   "pygments_lexer": "ipython3",
   "version": "3.13.2"
  }
 },
 "nbformat": 4,
 "nbformat_minor": 5
}
